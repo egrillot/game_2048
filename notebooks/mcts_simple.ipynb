{
 "cells": [
  {
   "attachments": {},
   "cell_type": "markdown",
   "metadata": {},
   "source": [
    "# MCTS"
   ]
  },
  {
   "cell_type": "code",
   "execution_count": 1,
   "metadata": {},
   "outputs": [],
   "source": [
    "import sys\n",
    "import os\n",
    "\n",
    "project_root = os.path.abspath(os.path.join(os.getcwd(), '..'))\n",
    "if project_root not in sys.path:\n",
    "    sys.path.append(project_root)"
   ]
  },
  {
   "cell_type": "code",
   "execution_count": 2,
   "metadata": {},
   "outputs": [],
   "source": [
    "from game_2048.agent import MCTS\n",
    "\n",
    "agent = MCTS(num_sample=20, depth=200)"
   ]
  },
  {
   "cell_type": "code",
   "execution_count": 3,
   "metadata": {},
   "outputs": [
    {
     "name": "stdout",
     "output_type": "stream",
     "text": [
      " 338/2000 [====>.........................] - estimated time remaining: 19:04 - max tile reached: 512 - move count: 338     \r"
     ]
    },
    {
     "ename": "ValueError",
     "evalue": "('the grid has no empty tiles, grid:', array([[  4, 128,   8,   2],\n       [  2,  32,  64,  16],\n       [ 16, 512,   8,   2],\n       [  4,   2,  16,   2]]))",
     "output_type": "error",
     "traceback": [
      "\u001b[1;31m---------------------------------------------------------------------------\u001b[0m",
      "\u001b[1;31mValueError\u001b[0m                                Traceback (most recent call last)",
      "Cell \u001b[1;32mIn[3], line 1\u001b[0m\n\u001b[1;32m----> 1\u001b[0m res \u001b[39m=\u001b[39m agent\u001b[39m.\u001b[39;49mgenerate_dataset(game_number\u001b[39m=\u001b[39;49m\u001b[39m5\u001b[39;49m)\n",
      "File \u001b[1;32m~\\Documents\\projects\\game_2048\\game_2048\\agent\\mcts.py:71\u001b[0m, in \u001b[0;36mMCTS.generate_dataset\u001b[1;34m(self, game_number)\u001b[0m\n\u001b[0;32m     67\u001b[0m res \u001b[39m=\u001b[39m []\n\u001b[0;32m     69\u001b[0m \u001b[39mfor\u001b[39;00m i \u001b[39min\u001b[39;00m \u001b[39mrange\u001b[39m(game_number):\n\u001b[1;32m---> 71\u001b[0m     grids, actions \u001b[39m=\u001b[39m \u001b[39mself\u001b[39;49m\u001b[39m.\u001b[39;49mplay_game(game\u001b[39m=\u001b[39;49mi)\n\u001b[0;32m     72\u001b[0m     res\u001b[39m.\u001b[39mappend((grids, actions))\n\u001b[0;32m     74\u001b[0m \u001b[39mreturn\u001b[39;00m res\n",
      "File \u001b[1;32m~\\Documents\\projects\\game_2048\\game_2048\\agent\\mcts.py:51\u001b[0m, in \u001b[0;36mMCTS.play_game\u001b[1;34m(self, game)\u001b[0m\n\u001b[0;32m     48\u001b[0m \u001b[39mwhile\u001b[39;00m env\u001b[39m.\u001b[39mhas_moves_left():\n\u001b[0;32m     50\u001b[0m     action \u001b[39m=\u001b[39m \u001b[39mself\u001b[39m\u001b[39m.\u001b[39mchose_move(env)\n\u001b[1;32m---> 51\u001b[0m     _, grid, _, _, _ \u001b[39m=\u001b[39m env\u001b[39m.\u001b[39;49mstep(action)\n\u001b[0;32m     53\u001b[0m     max_tile \u001b[39m=\u001b[39m \u001b[39mmax\u001b[39m(max_tile, np\u001b[39m.\u001b[39mmax(grid))\n\u001b[0;32m     55\u001b[0m     actions\u001b[39m.\u001b[39mappend(action)\n",
      "File \u001b[1;32m~\\Documents\\projects\\game_2048\\game_2048\\env\\env.py:128\u001b[0m, in \u001b[0;36menv_2048.step\u001b[1;34m(self, action)\u001b[0m\n\u001b[0;32m    125\u001b[0m \u001b[39mif\u001b[39;00m action \u001b[39m==\u001b[39m \u001b[39m3\u001b[39m:\n\u001b[0;32m    126\u001b[0m     reward \u001b[39m=\u001b[39m \u001b[39mself\u001b[39m\u001b[39m.\u001b[39mon_down_action()\n\u001b[1;32m--> 128\u001b[0m \u001b[39mself\u001b[39;49m\u001b[39m.\u001b[39;49mintroduce_new_number()        \n\u001b[0;32m    129\u001b[0m \u001b[39mself\u001b[39m\u001b[39m.\u001b[39mdone \u001b[39m=\u001b[39m \u001b[39mnot\u001b[39;00m \u001b[39mself\u001b[39m\u001b[39m.\u001b[39mhas_moves_left()\n\u001b[0;32m    130\u001b[0m reward \u001b[39m=\u001b[39m \u001b[39mself\u001b[39m\u001b[39m.\u001b[39mcompute_reward()\n",
      "File \u001b[1;32m~\\Documents\\projects\\game_2048\\game_2048\\env\\env.py:55\u001b[0m, in \u001b[0;36menv_2048.introduce_new_number\u001b[1;34m(self)\u001b[0m\n\u001b[0;32m     53\u001b[0m indices_zeros \u001b[39m=\u001b[39m np\u001b[39m.\u001b[39margwhere(\u001b[39mself\u001b[39m\u001b[39m.\u001b[39mgrid \u001b[39m==\u001b[39m \u001b[39m0\u001b[39m)\n\u001b[0;32m     54\u001b[0m \u001b[39mif\u001b[39;00m indices_zeros\u001b[39m.\u001b[39mshape[\u001b[39m0\u001b[39m] \u001b[39m==\u001b[39m \u001b[39m0\u001b[39m:\n\u001b[1;32m---> 55\u001b[0m     \u001b[39mraise\u001b[39;00m \u001b[39mValueError\u001b[39;00m(\u001b[39m\"\u001b[39m\u001b[39mthe grid has no empty tiles, grid:\u001b[39m\u001b[39m\"\u001b[39m, \u001b[39mself\u001b[39m\u001b[39m.\u001b[39mgrid)\n\u001b[0;32m     56\u001b[0m coord \u001b[39m=\u001b[39m np\u001b[39m.\u001b[39mrandom\u001b[39m.\u001b[39mrandint(indices_zeros\u001b[39m.\u001b[39mshape[\u001b[39m0\u001b[39m])\n\u001b[0;32m     57\u001b[0m number \u001b[39m=\u001b[39m np\u001b[39m.\u001b[39mrandom\u001b[39m.\u001b[39mchoice([\u001b[39m2\u001b[39m, \u001b[39m4\u001b[39m], p\u001b[39m=\u001b[39m[\u001b[39m0.8\u001b[39m, \u001b[39m0.2\u001b[39m])\n",
      "\u001b[1;31mValueError\u001b[0m: ('the grid has no empty tiles, grid:', array([[  4, 128,   8,   2],\n       [  2,  32,  64,  16],\n       [ 16, 512,   8,   2],\n       [  4,   2,  16,   2]]))"
     ]
    }
   ],
   "source": [
    "res = agent.generate_dataset(game_number=5)"
   ]
  },
  {
   "cell_type": "code",
   "execution_count": null,
   "metadata": {},
   "outputs": [
    {
     "ename": "NameError",
     "evalue": "name 'res' is not defined",
     "output_type": "error",
     "traceback": [
      "\u001b[1;31m---------------------------------------------------------------------------\u001b[0m",
      "\u001b[1;31mNameError\u001b[0m                                 Traceback (most recent call last)",
      "Cell \u001b[1;32mIn[4], line 4\u001b[0m\n\u001b[0;32m      1\u001b[0m \u001b[39mimport\u001b[39;00m \u001b[39mpickle\u001b[39;00m \u001b[39mas\u001b[39;00m \u001b[39mpkl\u001b[39;00m\n\u001b[0;32m      3\u001b[0m \u001b[39mwith\u001b[39;00m \u001b[39mopen\u001b[39m(\u001b[39m'\u001b[39m\u001b[39m../game_2048/models/dataset.pkl\u001b[39m\u001b[39m'\u001b[39m, \u001b[39m'\u001b[39m\u001b[39mwb\u001b[39m\u001b[39m'\u001b[39m) \u001b[39mas\u001b[39;00m f:\n\u001b[1;32m----> 4\u001b[0m     pkl\u001b[39m.\u001b[39mdump(res, f)\n",
      "\u001b[1;31mNameError\u001b[0m: name 'res' is not defined"
     ]
    }
   ],
   "source": [
    "import pickle as pkl\n",
    "\n",
    "with open('../game_2048/models/dataset.pkl', 'wb') as f:\n",
    "    pkl.dump(res, f)\n",
    "f.close()\n"
   ]
  }
 ],
 "metadata": {
  "kernelspec": {
   "display_name": "game-2048-G23fBW8X-py3.10",
   "language": "python",
   "name": "python3"
  },
  "language_info": {
   "codemirror_mode": {
    "name": "ipython",
    "version": 3
   },
   "file_extension": ".py",
   "mimetype": "text/x-python",
   "name": "python",
   "nbconvert_exporter": "python",
   "pygments_lexer": "ipython3",
   "version": "3.10.11"
  },
  "orig_nbformat": 4
 },
 "nbformat": 4,
 "nbformat_minor": 2
}
