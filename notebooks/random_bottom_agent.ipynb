{
 "cells": [
  {
   "attachments": {},
   "cell_type": "markdown",
   "metadata": {},
   "source": [
    "# Random bottom agent"
   ]
  },
  {
   "cell_type": "code",
   "execution_count": 1,
   "metadata": {},
   "outputs": [],
   "source": [
    "import sys\n",
    "import os\n",
    "\n",
    "project_root = os.path.abspath(os.path.join(os.getcwd(), '..'))\n",
    "if project_root not in sys.path:\n",
    "    sys.path.append(project_root)"
   ]
  },
  {
   "cell_type": "code",
   "execution_count": 2,
   "metadata": {},
   "outputs": [],
   "source": [
    "from game_2048.env import env_2048\n",
    "from game_2048.agent import RandomBottomAgent\n",
    "\n",
    "env = env_2048()\n",
    "agent = RandomBottomAgent('random agent')"
   ]
  },
  {
   "cell_type": "code",
   "execution_count": 3,
   "metadata": {},
   "outputs": [
    {
     "name": "stdout",
     "output_type": "stream",
     "text": [
      "  2817/100000 [>..............................] - estimated time remaining: 3:39:12 - max tile reached: 512 - longest game: 525     \r"
     ]
    },
    {
     "ename": "KeyboardInterrupt",
     "evalue": "",
     "output_type": "error",
     "traceback": [
      "\u001b[1;31m---------------------------------------------------------------------------\u001b[0m",
      "\u001b[1;31mKeyboardInterrupt\u001b[0m                         Traceback (most recent call last)",
      "Cell \u001b[1;32mIn[3], line 1\u001b[0m\n\u001b[1;32m----> 1\u001b[0m res \u001b[39m=\u001b[39m agent\u001b[39m.\u001b[39;49mplay_games(env)\n",
      "File \u001b[1;32m~\\Documents\\projects\\game_2048\\game_2048\\agent\\random_bottom_agent.py:96\u001b[0m, in \u001b[0;36mRandomBottomAgent.play_games\u001b[1;34m(self, env, num_game)\u001b[0m\n\u001b[0;32m     92\u001b[0m max_len \u001b[39m=\u001b[39m \u001b[39m0\u001b[39m\n\u001b[0;32m     94\u001b[0m \u001b[39mfor\u001b[39;00m i \u001b[39min\u001b[39;00m \u001b[39mrange\u001b[39m(num_game):\n\u001b[1;32m---> 96\u001b[0m     grids, actions \u001b[39m=\u001b[39m \u001b[39mself\u001b[39;49m\u001b[39m.\u001b[39;49mplay_game(env)\n\u001b[0;32m     97\u001b[0m     res\u001b[39m.\u001b[39mappend((grids, actions))\n\u001b[0;32m     98\u001b[0m     max_tile \u001b[39m=\u001b[39m \u001b[39mmax\u001b[39m(max_tile, np\u001b[39m.\u001b[39mmax(grids[\u001b[39m-\u001b[39m\u001b[39m1\u001b[39m]))\n",
      "File \u001b[1;32m~\\Documents\\projects\\game_2048\\game_2048\\agent\\random_bottom_agent.py:80\u001b[0m, in \u001b[0;36mRandomBottomAgent.play_game\u001b[1;34m(self, env)\u001b[0m\n\u001b[0;32m     77\u001b[0m actions \u001b[39m=\u001b[39m []\n\u001b[0;32m     79\u001b[0m \u001b[39mwhile\u001b[39;00m \u001b[39mnot\u001b[39;00m env\u001b[39m.\u001b[39mdone: \n\u001b[1;32m---> 80\u001b[0m     action \u001b[39m=\u001b[39m \u001b[39mself\u001b[39;49m\u001b[39m.\u001b[39;49msample_best_action(env, \u001b[39mlen\u001b[39;49m(actions) \u001b[39m==\u001b[39;49m \u001b[39m0\u001b[39;49m)\n\u001b[0;32m     81\u001b[0m     _, grid, _, _, _ \u001b[39m=\u001b[39m  env\u001b[39m.\u001b[39mstep(action)\n\u001b[0;32m     83\u001b[0m     grids\u001b[39m.\u001b[39mappend(grid)\n",
      "File \u001b[1;32m~\\Documents\\projects\\game_2048\\game_2048\\agent\\random_bottom_agent.py:22\u001b[0m, in \u001b[0;36mRandomBottomAgent.sample_best_action\u001b[1;34m(self, env, first)\u001b[0m\n\u001b[0;32m     19\u001b[0m best_action \u001b[39m=\u001b[39m \u001b[39m-\u001b[39m\u001b[39m1\u001b[39m\n\u001b[0;32m     21\u001b[0m \u001b[39mfor\u001b[39;00m action \u001b[39min\u001b[39;00m [\u001b[39m2\u001b[39m, \u001b[39m3\u001b[39m, \u001b[39m0\u001b[39m]:\n\u001b[1;32m---> 22\u001b[0m     \u001b[39mif\u001b[39;00m \u001b[39mnot\u001b[39;00m env\u001b[39m.\u001b[39;49mis_action_valid(action):\n\u001b[0;32m     23\u001b[0m         \u001b[39mcontinue\u001b[39;00m\n\u001b[0;32m     25\u001b[0m     temp_env \u001b[39m=\u001b[39m deepcopy(env)\n",
      "File \u001b[1;32m~\\Documents\\projects\\game_2048\\game_2048\\env\\env.py:143\u001b[0m, in \u001b[0;36menv_2048.is_action_valid\u001b[1;34m(self, action)\u001b[0m\n\u001b[0;32m    141\u001b[0m     \u001b[39mself\u001b[39m\u001b[39m.\u001b[39mon_up_action()\n\u001b[0;32m    142\u001b[0m \u001b[39melif\u001b[39;00m action \u001b[39m==\u001b[39m \u001b[39m2\u001b[39m:\n\u001b[1;32m--> 143\u001b[0m     \u001b[39mself\u001b[39;49m\u001b[39m.\u001b[39;49mon_right_action()\n\u001b[0;32m    144\u001b[0m \u001b[39melif\u001b[39;00m action \u001b[39m==\u001b[39m \u001b[39m3\u001b[39m:\n\u001b[0;32m    145\u001b[0m     \u001b[39mself\u001b[39m\u001b[39m.\u001b[39mon_down_action()\n",
      "File \u001b[1;32m~\\Documents\\projects\\game_2048\\game_2048\\env\\env.py:77\u001b[0m, in \u001b[0;36menv_2048.on_right_action\u001b[1;34m(self)\u001b[0m\n\u001b[0;32m     74\u001b[0m         \u001b[39mself\u001b[39m\u001b[39m.\u001b[39mscore \u001b[39m+\u001b[39m\u001b[39m=\u001b[39m row[j]\n\u001b[0;32m     75\u001b[0m         row[:j] \u001b[39m=\u001b[39m np\u001b[39m.\u001b[39mpad(row[:j \u001b[39m-\u001b[39m \u001b[39m1\u001b[39m], pad_width\u001b[39m=\u001b[39m(\u001b[39m1\u001b[39m, \u001b[39m0\u001b[39m), mode\u001b[39m=\u001b[39m\u001b[39m'\u001b[39m\u001b[39mconstant\u001b[39m\u001b[39m'\u001b[39m, constant_values\u001b[39m=\u001b[39m(\u001b[39m0\u001b[39m, \u001b[39m0\u001b[39m))\n\u001b[1;32m---> 77\u001b[0m \u001b[39mself\u001b[39m\u001b[39m.\u001b[39mgrid[i, :] \u001b[39m=\u001b[39m np\u001b[39m.\u001b[39;49mpad(row, pad_width\u001b[39m=\u001b[39;49m(\u001b[39m4\u001b[39;49m \u001b[39m-\u001b[39;49m row\u001b[39m.\u001b[39;49mshape[\u001b[39m0\u001b[39;49m], \u001b[39m0\u001b[39;49m), mode\u001b[39m=\u001b[39;49m\u001b[39m'\u001b[39;49m\u001b[39mconstant\u001b[39;49m\u001b[39m'\u001b[39;49m, constant_values\u001b[39m=\u001b[39;49m(\u001b[39m0\u001b[39;49m, \u001b[39m0\u001b[39;49m))\n",
      "File \u001b[1;32m<__array_function__ internals>:200\u001b[0m, in \u001b[0;36mpad\u001b[1;34m(*args, **kwargs)\u001b[0m\n",
      "File \u001b[1;32mc:\\Users\\emili\\AppData\\Local\\pypoetry\\Cache\\virtualenvs\\game-2048-G23fBW8X-py3.10\\lib\\site-packages\\numpy\\lib\\arraypad.py:744\u001b[0m, in \u001b[0;36mpad\u001b[1;34m(array, pad_width, mode, **kwargs)\u001b[0m\n\u001b[0;32m    741\u001b[0m     \u001b[39mraise\u001b[39;00m \u001b[39mTypeError\u001b[39;00m(\u001b[39m'\u001b[39m\u001b[39m`pad_width` must be of integral type.\u001b[39m\u001b[39m'\u001b[39m)\n\u001b[0;32m    743\u001b[0m \u001b[39m# Broadcast to shape (array.ndim, 2)\u001b[39;00m\n\u001b[1;32m--> 744\u001b[0m pad_width \u001b[39m=\u001b[39m _as_pairs(pad_width, array\u001b[39m.\u001b[39;49mndim, as_index\u001b[39m=\u001b[39;49m\u001b[39mTrue\u001b[39;49;00m)\n\u001b[0;32m    746\u001b[0m \u001b[39mif\u001b[39;00m \u001b[39mcallable\u001b[39m(mode):\n\u001b[0;32m    747\u001b[0m     \u001b[39m# Old behavior: Use user-supplied function with np.apply_along_axis\u001b[39;00m\n\u001b[0;32m    748\u001b[0m     function \u001b[39m=\u001b[39m mode\n",
      "File \u001b[1;32mc:\\Users\\emili\\AppData\\Local\\pypoetry\\Cache\\virtualenvs\\game-2048-G23fBW8X-py3.10\\lib\\site-packages\\numpy\\lib\\arraypad.py:487\u001b[0m, in \u001b[0;36m_as_pairs\u001b[1;34m(x, ndim, as_index)\u001b[0m\n\u001b[0;32m    482\u001b[0m \u001b[39mif\u001b[39;00m x \u001b[39mis\u001b[39;00m \u001b[39mNone\u001b[39;00m:\n\u001b[0;32m    483\u001b[0m     \u001b[39m# Pass through None as a special case, otherwise np.round(x) fails\u001b[39;00m\n\u001b[0;32m    484\u001b[0m     \u001b[39m# with an AttributeError\u001b[39;00m\n\u001b[0;32m    485\u001b[0m     \u001b[39mreturn\u001b[39;00m ((\u001b[39mNone\u001b[39;00m, \u001b[39mNone\u001b[39;00m),) \u001b[39m*\u001b[39m ndim\n\u001b[1;32m--> 487\u001b[0m x \u001b[39m=\u001b[39m np\u001b[39m.\u001b[39;49marray(x)\n\u001b[0;32m    488\u001b[0m \u001b[39mif\u001b[39;00m as_index:\n\u001b[0;32m    489\u001b[0m     x \u001b[39m=\u001b[39m np\u001b[39m.\u001b[39mround(x)\u001b[39m.\u001b[39mastype(np\u001b[39m.\u001b[39mintp, copy\u001b[39m=\u001b[39m\u001b[39mFalse\u001b[39;00m)\n",
      "\u001b[1;31mKeyboardInterrupt\u001b[0m: "
     ]
    }
   ],
   "source": [
    "res = agent.play_games(env)"
   ]
  },
  {
   "cell_type": "code",
   "execution_count": null,
   "metadata": {},
   "outputs": [],
   "source": [
    "import pickle as pkl\n",
    "\n",
    "with open('../game_2048/models/dataset.pkl', 'wb') as f:\n",
    "    pkl.dump(res, f)\n"
   ]
  }
 ],
 "metadata": {
  "kernelspec": {
   "display_name": "game-2048-G23fBW8X-py3.10",
   "language": "python",
   "name": "python3"
  },
  "language_info": {
   "codemirror_mode": {
    "name": "ipython",
    "version": 3
   },
   "file_extension": ".py",
   "mimetype": "text/x-python",
   "name": "python",
   "nbconvert_exporter": "python",
   "pygments_lexer": "ipython3",
   "version": "3.10.11"
  },
  "orig_nbformat": 4
 },
 "nbformat": 4,
 "nbformat_minor": 2
}
