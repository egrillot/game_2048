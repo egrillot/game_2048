{
 "cells": [
  {
   "attachments": {},
   "cell_type": "markdown",
   "metadata": {},
   "source": [
    "# Deep Monte Carlo Tree Search"
   ]
  },
  {
   "cell_type": "code",
   "execution_count": 1,
   "metadata": {},
   "outputs": [],
   "source": [
    "import sys\n",
    "import os\n",
    "\n",
    "project_root = os.path.abspath(os.path.join(os.getcwd(), '..'))\n",
    "if project_root not in sys.path:\n",
    "    sys.path.append(project_root)"
   ]
  },
  {
   "cell_type": "code",
   "execution_count": 2,
   "metadata": {},
   "outputs": [],
   "source": [
    "from game_2048.agent.alpha_zero.NeuralNet import NeuralNet\n",
    "from game_2048.agent.alpha_zero.training import train_deep_mcts, warm_up\n",
    "\n",
    "nn = NeuralNet()\n",
    "nn.load('../game_2048/models/MCTS_CNN_2048.pt')"
   ]
  },
  {
   "cell_type": "code",
   "execution_count": 3,
   "metadata": {},
   "outputs": [],
   "source": [
    "# warm_up(\n",
    "#     num_episodes=100,\n",
    "#     neural_net=nn,\n",
    "#     saving_path='../game_2048/models/',\n",
    "#     naive_mcts_num_sample=30,\n",
    "#     naive_mcts_depth=500\n",
    "# )"
   ]
  },
  {
   "cell_type": "code",
   "execution_count": 4,
   "metadata": {},
   "outputs": [
    {
     "name": "stdout",
     "output_type": "stream",
     "text": [
      "\n",
      "Episode 1:\n",
      "\n",
      " 115/4000 [>..............................] - estimated time remaining: 1:39 - max tile seen: 64 - tree max depth: 230     \n",
      "--- max tile reached: 64 --- move count: 116 --- average loss: 0.017044622122739383\n",
      "\n",
      "#########\n",
      "\n",
      "\n",
      "Episode 2:\n",
      "\n",
      " 141/4000 [>.............................] - estimated time remaining: 1:39 - max tile seen: 64 - tree max depth: 282     \n",
      "--- max tile reached: 64 --- move count: 143 --- average loss: 0.004700365233172003\n",
      "\n",
      "#########\n",
      "\n",
      "\n",
      "Episode 3:\n",
      "\n",
      " 257/4000 [>.............................] - estimated time remaining: 1:27 - max tile seen: 256 - tree max depth: 514      \n",
      "--- max tile reached: 256 --- move count: 259 --- average loss: 0.004366257016727104\n",
      "\n",
      "#########\n",
      "\n",
      "\n",
      "Episode 4:\n",
      "\n",
      " 216/4000 [>.............................] - estimated time remaining: 1:33 - max tile seen: 128 - tree max depth: 432     \n",
      "--- max tile reached: 128 --- move count: 217 --- average loss: 0.02022232126671497\n",
      "\n",
      "#########\n",
      "\n",
      "\n",
      "Episode 5:\n",
      "\n",
      " 107/4000 [>..............................] - estimated time remaining: 1:44 - max tile seen: 64 - tree max depth: 214     \r"
     ]
    }
   ],
   "source": [
    "train_deep_mcts(\n",
    "    num_episodes=30000,\n",
    "    num_mcts_simulations=20,\n",
    "    model=nn,\n",
    "    saving_path='../game_2048/models/'\n",
    ")"
   ]
  }
 ],
 "metadata": {
  "kernelspec": {
   "display_name": "game-2048-ivi8wBEA-py3.10",
   "language": "python",
   "name": "python3"
  },
  "language_info": {
   "codemirror_mode": {
    "name": "ipython",
    "version": 3
   },
   "file_extension": ".py",
   "mimetype": "text/x-python",
   "name": "python",
   "nbconvert_exporter": "python",
   "pygments_lexer": "ipython3",
   "version": "3.10.11"
  },
  "orig_nbformat": 4
 },
 "nbformat": 4,
 "nbformat_minor": 2
}
